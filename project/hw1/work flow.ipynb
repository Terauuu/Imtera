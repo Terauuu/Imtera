{
 "cells": [
  {
   "cell_type": "code",
   "execution_count": 2,
   "id": "affdc1b2",
   "metadata": {},
   "outputs": [
    {
     "name": "stdout",
     "output_type": "stream",
     "text": [
      "<class 'pandas.core.frame.DataFrame'>\n",
      "RangeIndex: 50083 entries, 0 to 50082\n",
      "Data columns (total 51 columns):\n",
      " #   Column              Non-Null Count  Dtype   \n",
      "---  ------              --------------  -----   \n",
      " 0   treatment           50083 non-null  int8    \n",
      " 1   control             50083 non-null  int8    \n",
      " 2   ratio               50083 non-null  category\n",
      " 3   ratio2              50083 non-null  int8    \n",
      " 4   ratio3              50083 non-null  int8    \n",
      " 5   size                50083 non-null  category\n",
      " 6   size25              50083 non-null  int8    \n",
      " 7   size50              50083 non-null  int8    \n",
      " 8   size100             50083 non-null  int8    \n",
      " 9   sizeno              50083 non-null  int8    \n",
      " 10  ask                 50083 non-null  category\n",
      " 11  askd1               50083 non-null  int8    \n",
      " 12  askd2               50083 non-null  int8    \n",
      " 13  askd3               50083 non-null  int8    \n",
      " 14  ask1                50083 non-null  int16   \n",
      " 15  ask2                50083 non-null  int16   \n",
      " 16  ask3                50083 non-null  int16   \n",
      " 17  amount              50083 non-null  float32 \n",
      " 18  gave                50083 non-null  int8    \n",
      " 19  amountchange        50083 non-null  float32 \n",
      " 20  hpa                 50083 non-null  float32 \n",
      " 21  ltmedmra            50083 non-null  int8    \n",
      " 22  freq                50083 non-null  int16   \n",
      " 23  years               50082 non-null  float64 \n",
      " 24  year5               50083 non-null  int8    \n",
      " 25  mrm2                50082 non-null  float64 \n",
      " 26  dormant             50083 non-null  int8    \n",
      " 27  female              48972 non-null  float64 \n",
      " 28  couple              48935 non-null  float64 \n",
      " 29  state50one          50083 non-null  int8    \n",
      " 30  nonlit              49631 non-null  float64 \n",
      " 31  cases               49631 non-null  float64 \n",
      " 32  statecnt            50083 non-null  float32 \n",
      " 33  stateresponse       50083 non-null  float32 \n",
      " 34  stateresponset      50083 non-null  float32 \n",
      " 35  stateresponsec      50080 non-null  float32 \n",
      " 36  stateresponsetminc  50080 non-null  float32 \n",
      " 37  perbush             50048 non-null  float32 \n",
      " 38  close25             50048 non-null  float64 \n",
      " 39  red0                50048 non-null  float64 \n",
      " 40  blue0               50048 non-null  float64 \n",
      " 41  redcty              49978 non-null  float64 \n",
      " 42  bluecty             49978 non-null  float64 \n",
      " 43  pwhite              48217 non-null  float32 \n",
      " 44  pblack              48047 non-null  float32 \n",
      " 45  page18_39           48217 non-null  float32 \n",
      " 46  ave_hh_sz           48221 non-null  float32 \n",
      " 47  median_hhincome     48209 non-null  float64 \n",
      " 48  powner              48214 non-null  float32 \n",
      " 49  psch_atlstba        48215 non-null  float32 \n",
      " 50  pop_propurban       48217 non-null  float32 \n",
      "dtypes: category(3), float32(16), float64(12), int16(4), int8(16)\n",
      "memory usage: 8.9 MB\n"
     ]
    },
    {
     "data": {
      "text/plain": [
       "(None,\n",
       "    treatment  control    ratio  ratio2  ratio3      size  size25  size50  \\\n",
       " 0          0        1  Control       0       0   Control       0       0   \n",
       " 1          0        1  Control       0       0   Control       0       0   \n",
       " 2          1        0        1       0       0  $100,000       0       0   \n",
       " 3          1        0        1       0       0  Unstated       0       0   \n",
       " 4          1        0        1       0       0   $50,000       0       1   \n",
       " \n",
       "    size100  sizeno  ... redcty  bluecty    pwhite    pblack  page18_39  \\\n",
       " 0        0       0  ...    0.0      1.0  0.446493  0.527769   0.317591   \n",
       " 1        0       0  ...    1.0      0.0       NaN       NaN        NaN   \n",
       " 2        1       0  ...    0.0      1.0  0.935706  0.011948   0.276128   \n",
       " 3        0       1  ...    1.0      0.0  0.888331  0.010760   0.279412   \n",
       " 4        0       0  ...    0.0      1.0  0.759014  0.127421   0.442389   \n",
       " \n",
       "    ave_hh_sz  median_hhincome    powner  psch_atlstba  pop_propurban  \n",
       " 0       2.10          28517.0  0.499807      0.324528            1.0  \n",
       " 1        NaN              NaN       NaN           NaN            NaN  \n",
       " 2       2.48          51175.0  0.721941      0.192668            1.0  \n",
       " 3       2.65          79269.0  0.920431      0.412142            1.0  \n",
       " 4       1.85          40908.0  0.416072      0.439965            1.0  \n",
       " \n",
       " [5 rows x 51 columns])"
      ]
     },
     "execution_count": 2,
     "metadata": {},
     "output_type": "execute_result"
    }
   ],
   "source": [
    "import pandas as pd\n",
    "\n",
    "df = pd.read_stata('karlan_list_2007.dta')\n",
    "\n",
    "df_info = df.info()\n",
    "df_head = df.head()\n",
    "\n",
    "df_info, df_head"
   ]
  }
 ],
 "metadata": {
  "kernelspec": {
   "display_name": "base",
   "language": "python",
   "name": "python3"
  },
  "language_info": {
   "codemirror_mode": {
    "name": "ipython",
    "version": 3
   },
   "file_extension": ".py",
   "mimetype": "text/x-python",
   "name": "python",
   "nbconvert_exporter": "python",
   "pygments_lexer": "ipython3",
   "version": "3.11.9"
  }
 },
 "nbformat": 4,
 "nbformat_minor": 5
}
