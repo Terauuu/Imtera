{
 "cells": [
  {
   "cell_type": "code",
   "execution_count": 8,
   "id": "affdc1b2",
   "metadata": {},
   "outputs": [
    {
     "name": "stdout",
     "output_type": "stream",
     "text": [
      "   treatment  control    ratio  ratio2  ratio3      size  size25  size50  \\\n",
      "0          0        1  Control       0       0   Control       0       0   \n",
      "1          0        1  Control       0       0   Control       0       0   \n",
      "2          1        0        1       0       0  $100,000       0       0   \n",
      "3          1        0        1       0       0  Unstated       0       0   \n",
      "4          1        0        1       0       0   $50,000       0       1   \n",
      "\n",
      "   size100  sizeno  ... redcty  bluecty    pwhite    pblack  page18_39  \\\n",
      "0        0       0  ...    0.0      1.0  0.446493  0.527769   0.317591   \n",
      "1        0       0  ...    1.0      0.0       NaN       NaN        NaN   \n",
      "2        1       0  ...    0.0      1.0  0.935706  0.011948   0.276128   \n",
      "3        0       1  ...    1.0      0.0  0.888331  0.010760   0.279412   \n",
      "4        0       0  ...    0.0      1.0  0.759014  0.127421   0.442389   \n",
      "\n",
      "   ave_hh_sz  median_hhincome    powner  psch_atlstba  pop_propurban  \n",
      "0       2.10          28517.0  0.499807      0.324528            1.0  \n",
      "1        NaN              NaN       NaN           NaN            NaN  \n",
      "2       2.48          51175.0  0.721941      0.192668            1.0  \n",
      "3       2.65          79269.0  0.920431      0.412142            1.0  \n",
      "4       1.85          40908.0  0.416072      0.439965            1.0  \n",
      "\n",
      "[5 rows x 51 columns]\n"
     ]
    }
   ],
   "source": [
    "import pandas as pd\n",
    "\n",
    "df = pd.read_stata('karlan_list_2007.dta')\n",
    "\n",
    "print(df.head())"
   ]
  }
 ],
 "metadata": {
  "kernelspec": {
   "display_name": "base",
   "language": "python",
   "name": "python3"
  },
  "language_info": {
   "codemirror_mode": {
    "name": "ipython",
    "version": 3
   },
   "file_extension": ".py",
   "mimetype": "text/x-python",
   "name": "python",
   "nbconvert_exporter": "python",
   "pygments_lexer": "ipython3",
   "version": "3.11.9"
  }
 },
 "nbformat": 4,
 "nbformat_minor": 5
}
